{
 "nbformat": 4,
 "nbformat_minor": 0,
 "metadata": {
  "colab": {
   "name": "rigan.ipynb",
   "provenance": [],
   "collapsed_sections": [],
   "authorship_tag": "ABX9TyOpzHnrUXsIg7fRdb8mGvgH"
  },
  "kernelspec": {
   "name": "python3",
   "display_name": "Python 3"
  },
  "language_info": {
   "name": "python"
  },
  "accelerator": "GPU"
 },
 "cells": [
  {
   "cell_type": "code",
   "execution_count": null,
   "outputs": [],
   "source": [
    "from torch.utils.data import DataLoader, Subset, Dataset\n",
    "from torchvision.utils import save_image, make_grid\n",
    "from torchvision import datasets, transforms\n",
    "from torch.optim import Adam, lr_scheduler\n",
    "from torch.autograd import Variable\n",
    "import torch.nn.functional as F\n",
    "import torch.nn as nn\n",
    "from PIL import Image\n",
    "from models import *\n",
    "from utils import *\n",
    "import numpy as np\n",
    "import itertools\n",
    "import datetime\n",
    "import torch\n",
    "import math\n",
    "import time"
   ],
   "metadata": {
    "collapsed": false,
    "pycharm": {
     "name": "#%%\n"
    }
   }
  },
  {
   "cell_type": "code",
   "execution_count": null,
   "outputs": [],
   "source": [
    "# Check GPU usage\n",
    "cuda = torch.cuda.is_available()\n",
    "device = torch.cuda.device('cuda' if cuda else 'cpu')\n",
    "Tensor = torch.cuda.FloatTensor if cuda else torch.Tensor\n",
    "print(\"Using CUDA:\", cuda)"
   ],
   "metadata": {
    "collapsed": false,
    "pycharm": {
     "name": "#%%\n"
    }
   }
  },
  {
   "cell_type": "code",
   "execution_count": null,
   "outputs": [],
   "source": [
    "from torch.utils.data import DataLoader, Subset, Dataset\n",
    "from torchvision.utils import save_image, make_grid\n",
    "from torchvision import datasets, transforms\n",
    "from torch.optim import Adam, lr_scheduler\n",
    "from torch.autograd import Variable\n",
    "import torch.nn.functional as F\n",
    "import torch.nn as nn\n",
    "from PIL import Image\n",
    "from models import *\n",
    "from utils import *\n",
    "import numpy as np\n",
    "import itertools\n",
    "import datetime\n",
    "import torch\n",
    "import math\n",
    "import time"
   ],
   "metadata": {
    "collapsed": false,
    "pycharm": {
     "name": "#%%\n"
    }
   }
  },
  {
   "cell_type": "code",
   "metadata": {
    "colab": {
     "base_uri": "https://localhost:8080/"
    },
    "id": "_UWe2kyUiqVx",
    "executionInfo": {
     "status": "ok",
     "timestamp": 1617624994316,
     "user_tz": 180,
     "elapsed": 27339,
     "user": {
      "displayName": "Victor Augusto kich",
      "photoUrl": "https://lh3.googleusercontent.com/a-/AOh14Gj-AGJcX9BKXQrfNf1jhb1kaBFH0E5NMbDO2eONtA=s64",
      "userId": "04254819205451908418"
     }
    },
    "outputId": "62aa5223-f81d-41eb-905f-c32e3ec8b067"
   },
   "source": [
    "# Check GPU usage\n",
    "cuda = torch.cuda.is_available()\n",
    "device = torch.cuda.device('cuda' if cuda else 'cpu')\n",
    "Tensor = torch.cuda.FloatTensor if cuda else torch.Tensor\n",
    "print(\"Using CUDA:\", cuda)"
   ],
   "execution_count": 3,
   "outputs": [
    {
     "output_type": "stream",
     "text": [
      "Using CUDA: True\n"
     ],
     "name": "stdout"
    }
   ]
  },
  {
   "cell_type": "code",
   "metadata": {
    "id": "20SJyvviivJ7",
    "executionInfo": {
     "status": "ok",
     "timestamp": 1617624994317,
     "user_tz": 180,
     "elapsed": 27338,
     "user": {
      "displayName": "Victor Augusto kich",
      "photoUrl": "https://lh3.googleusercontent.com/a-/AOh14Gj-AGJcX9BKXQrfNf1jhb1kaBFH0E5NMbDO2eONtA=s64",
      "userId": "04254819205451908418"
     }
    }
   },
   "source": [
    "# Parameters\n",
    "input_shape = (3, 196, 196)  # [c, h, w]\n",
    "batch_size = 4  # size of the batches\n",
    "n_residual_blocks = 9  # number of residual blocks in generator\n",
    "epoch = 58  # epoch to start training from\n",
    "n_epochs = 1000  # number of epochs of training\n",
    "n_workers = 2  # number of cpu threads to use during batch generation\n",
    "decay_epoch = 100  # epoch from which to start lr decay\n",
    "lr = 0.0002  # learning rate\n",
    "b1 = 0.5  # decay of first order momentum of gradient\n",
    "b2 = 0.999  # decay of first order momentum of gradient\n",
    "lambda_cyc = 10.0  # cycle loss weight\n",
    "lambda_id = 5.0  # identity loss weight\n",
    "checkpoint_interval = 2  # interval between saving model checkpoints\n",
    "sample_interval = 200  # interval between saving generator outputs\n",
    "load_model = True  # load weights from a current pre trainded model "
   ],
   "execution_count": 4,
   "outputs": []
  },
  {
   "cell_type": "code",
   "metadata": {
    "id": "7VP9lUSzjDW2",
    "executionInfo": {
     "status": "ok",
     "timestamp": 1617625005007,
     "user_tz": 180,
     "elapsed": 38026,
     "user": {
      "displayName": "Victor Augusto kich",
      "photoUrl": "https://lh3.googleusercontent.com/a-/AOh14Gj-AGJcX9BKXQrfNf1jhb1kaBFH0E5NMbDO2eONtA=s64",
      "userId": "04254819205451908418"
     }
    }
   },
   "source": [
    "# Losses\n",
    "criterion_GAN = torch.nn.MSELoss()\n",
    "criterion_cycle = torch.nn.L1Loss()\n",
    "criterion_identity = torch.nn.L1Loss()\n",
    "\n",
    "# Initialize generator and discriminator\n",
    "G_AB = GeneratorResNet(input_shape, n_residual_blocks)\n",
    "G_BA = GeneratorResNet(input_shape, n_residual_blocks)\n",
    "D_A = Discriminator(input_shape)\n",
    "D_B = Discriminator(input_shape)\n",
    "\n",
    "if cuda:\n",
    "    G_AB = G_AB.cuda()\n",
    "    G_BA = G_BA.cuda()\n",
    "    D_A = D_A.cuda()\n",
    "    D_B = D_B.cuda()\n",
    "    criterion_GAN.cuda()\n",
    "    criterion_cycle.cuda()\n",
    "    criterion_identity.cuda()"
   ],
   "execution_count": 5,
   "outputs": []
  },
  {
   "cell_type": "code",
   "metadata": {
    "id": "Thz1XP_EsvVB",
    "executionInfo": {
     "status": "ok",
     "timestamp": 1617625008329,
     "user_tz": 180,
     "elapsed": 41346,
     "user": {
      "displayName": "Victor Augusto kich",
      "photoUrl": "https://lh3.googleusercontent.com/a-/AOh14Gj-AGJcX9BKXQrfNf1jhb1kaBFH0E5NMbDO2eONtA=s64",
      "userId": "04254819205451908418"
     }
    }
   },
   "source": [
    "# Load model or initialize weights from normal distribution\n",
    "if load_model:\n",
    "  G_AB.load_state_dict(torch.load(os.getcwd()+\"/saved_models/G_AB_58.pth\"))\n",
    "  G_BA.load_state_dict(torch.load(os.getcwd()+\"/saved_models/G_BA_58.pth\"))\n",
    "  D_A.load_state_dict(torch.load(os.getcwd()+\"/saved_models/D_A_58.pth\"))\n",
    "  D_B.load_state_dict(torch.load(os.getcwd()+\"/saved_models/D_B_58.pth\"))\n",
    "else:\n",
    "  G_AB.apply(weights_init_normal)\n",
    "  G_BA.apply(weights_init_normal)\n",
    "  D_A.apply(weights_init_normal)\n",
    "  D_B.apply(weights_init_normal)"
   ],
   "execution_count": 6,
   "outputs": []
  },
  {
   "cell_type": "code",
   "metadata": {
    "id": "sNMfbVhJjF_U",
    "executionInfo": {
     "status": "ok",
     "timestamp": 1617625008330,
     "user_tz": 180,
     "elapsed": 41345,
     "user": {
      "displayName": "Victor Augusto kich",
      "photoUrl": "https://lh3.googleusercontent.com/a-/AOh14Gj-AGJcX9BKXQrfNf1jhb1kaBFH0E5NMbDO2eONtA=s64",
      "userId": "04254819205451908418"
     }
    }
   },
   "source": [
    "# Optimizers\n",
    "optimizer_G = Adam(itertools.chain(G_AB.parameters(), G_BA.parameters()), lr=lr, betas=(b1, b2))\n",
    "optimizer_D_A = Adam(D_A.parameters(), lr=lr, betas=(b1, b2))\n",
    "optimizer_D_B = Adam(D_B.parameters(), lr=lr, betas=(b1, b2))\n",
    "\n",
    "# Learning rate update schedulers\n",
    "lr_scheduler_G = lr_scheduler.LambdaLR(optimizer_G, lr_lambda=LambdaLR(n_epochs, epoch, decay_epoch).step)\n",
    "lr_scheduler_D_A = lr_scheduler.LambdaLR(optimizer_D_A, lr_lambda=LambdaLR(n_epochs, epoch, decay_epoch).step)\n",
    "lr_scheduler_D_B = lr_scheduler.LambdaLR(optimizer_D_B, lr_lambda=LambdaLR(n_epochs, epoch, decay_epoch).step)\n",
    "\n",
    "# Buffers of previously generated samples\n",
    "fake_A_buffer = ReplayBuffer()\n",
    "fake_B_buffer = ReplayBuffer()"
   ],
   "execution_count": 7,
   "outputs": []
  },
  {
   "cell_type": "code",
   "metadata": {
    "id": "J1LjTPHUjoKs",
    "executionInfo": {
     "status": "ok",
     "timestamp": 1617625008331,
     "user_tz": 180,
     "elapsed": 41345,
     "user": {
      "displayName": "Victor Augusto kich",
      "photoUrl": "https://lh3.googleusercontent.com/a-/AOh14Gj-AGJcX9BKXQrfNf1jhb1kaBFH0E5NMbDO2eONtA=s64",
      "userId": "04254819205451908418"
     }
    }
   },
   "source": [
    "# Image transformations\n",
    "transform = [\n",
    "    transforms.Resize((input_shape[1], input_shape[2])),\n",
    "    transforms.RandomCrop((input_shape[1], input_shape[2])),\n",
    "    # transforms.RandomHorizontalFlip(),\n",
    "    transforms.ToTensor(),\n",
    "    transforms.Normalize((0.5, 0.5, 0.5), (0.5, 0.5, 0.5)),\n",
    "]"
   ],
   "execution_count": 8,
   "outputs": []
  },
  {
   "cell_type": "code",
   "metadata": {
    "id": "yrjozXaerxp4",
    "executionInfo": {
     "status": "ok",
     "timestamp": 1617625008331,
     "user_tz": 180,
     "elapsed": 41343,
     "user": {
      "displayName": "Victor Augusto kich",
      "photoUrl": "https://lh3.googleusercontent.com/a-/AOh14Gj-AGJcX9BKXQrfNf1jhb1kaBFH0E5NMbDO2eONtA=s64",
      "userId": "04254819205451908418"
     }
    }
   },
   "source": [
    "class RiGANDataset(Dataset):\n",
    "    def __init__(self, transform):\n",
    "        super().__init__()\n",
    "        self.cwd = os.getcwd()\n",
    "        self.files_A = os.listdir(self.cwd+\"/data/images_A/\")\n",
    "        self.files_B = os.listdir(self.cwd+\"/data/images_B/\")\n",
    "        self.transform = transforms.Compose(transform)\n",
    "\n",
    "    def __repr__(self):\n",
    "        return f\"Dataset class with {self.__len__()} files\"\n",
    "\n",
    "    def __len__(self):\n",
    "        return max(len(self.files_A), len(self.files_B))\n",
    "\n",
    "    def __getitem__(self, idx):\n",
    "        img_A = Image.open(self.cwd+\"/data/images_A/\"+self.files_A[idx % len(self.files_A)])\n",
    "        img_B = Image.open(self.cwd+\"/data/images_B/\"+self.files_B[np.random.randint(0, len(self.files_B) - 1)])\n",
    "        item_A = self.transform(img_A)\n",
    "        item_B = self.transform(img_B)\n",
    "        return {\"A\": item_A, \"B\": item_B}"
   ],
   "execution_count": 9,
   "outputs": []
  },
  {
   "cell_type": "code",
   "metadata": {
    "id": "116MrSJDjpyM",
    "executionInfo": {
     "status": "ok",
     "timestamp": 1617625059132,
     "user_tz": 180,
     "elapsed": 92142,
     "user": {
      "displayName": "Victor Augusto kich",
      "photoUrl": "https://lh3.googleusercontent.com/a-/AOh14Gj-AGJcX9BKXQrfNf1jhb1kaBFH0E5NMbDO2eONtA=s64",
      "userId": "04254819205451908418"
     }
    }
   },
   "source": [
    "# Loading the train and val dataset using data loader\n",
    "dataset = RiGANDataset(transform=transform)\n",
    "lengths = [round(len(dataset)*0.8), round(len(dataset)*0.2)]\n",
    "train_data = Subset(dataset, range(0, lengths[0]))\n",
    "val_data = Subset(dataset, range(lengths[0], sum(lengths)))\n",
    "train_loader = DataLoader(train_data, batch_size=batch_size, shuffle=True, num_workers=n_workers)\n",
    "val_loader = DataLoader(val_data, batch_size=5, shuffle=True, num_workers=1)"
   ],
   "execution_count": 10,
   "outputs": []
  },
  {
   "cell_type": "code",
   "metadata": {
    "id": "P_f_Xiymjv2V",
    "executionInfo": {
     "status": "ok",
     "timestamp": 1617625059133,
     "user_tz": 180,
     "elapsed": 92140,
     "user": {
      "displayName": "Victor Augusto kich",
      "photoUrl": "https://lh3.googleusercontent.com/a-/AOh14Gj-AGJcX9BKXQrfNf1jhb1kaBFH0E5NMbDO2eONtA=s64",
      "userId": "04254819205451908418"
     }
    }
   },
   "source": [
    "def sample_images(batches_done):\n",
    "    \"\"\" Saves a generated sample from the test set \"\"\"\n",
    "    imgs = next(iter(val_loader))\n",
    "    G_AB.eval()\n",
    "    G_BA.eval()\n",
    "    real_A = Variable(imgs[\"A\"].type(Tensor))\n",
    "    fake_B = G_AB(real_A)\n",
    "    real_B = Variable(imgs[\"B\"].type(Tensor))\n",
    "    fake_A = G_BA(real_B)\n",
    "\n",
    "    # Arange images along x-axis\n",
    "    real_A = make_grid(real_A, nrow=5, normalize=True)\n",
    "    real_B = make_grid(real_B, nrow=5, normalize=True)\n",
    "    fake_A = make_grid(fake_A, nrow=5, normalize=True)\n",
    "    fake_B = make_grid(fake_B, nrow=5, normalize=True)\n",
    "    \n",
    "    # Arange images along y-axis\n",
    "    image_grid = torch.cat((real_A, fake_B, real_B, fake_A), 1)\n",
    "    save_image(image_grid, os.getcwd()+\"/data/outputs/%s.png\" % batches_done, normalize=False)"
   ],
   "execution_count": 11,
   "outputs": []
  },
  {
   "cell_type": "code",
   "metadata": {
    "colab": {
     "base_uri": "https://localhost:8080/"
    },
    "id": "hBQbDqkDjwXP",
    "outputId": "89d83ba2-985c-4c9d-8831-fd9841c15f9b"
   },
   "source": [
    "#  Training\n",
    "prev_time = time.time()\n",
    "for epoch in range(epoch, n_epochs):\n",
    "    for i, batch in enumerate(train_loader):\n",
    "        # Set model input\n",
    "        real_A = Variable(batch[\"A\"].type(Tensor))\n",
    "        real_B = Variable(batch[\"B\"].type(Tensor))\n",
    "\n",
    "        # Adversarial ground truths\n",
    "        valid = Variable(Tensor(np.ones((real_A.size(0), *D_A.output_shape))), requires_grad=False)\n",
    "        fake = Variable(Tensor(np.zeros((real_A.size(0), *D_A.output_shape))), requires_grad=False)\n",
    "\n",
    "        # Train Generators\n",
    "        G_AB.train()\n",
    "        G_BA.train()\n",
    "\n",
    "        optimizer_G.zero_grad()\n",
    "\n",
    "        # Identity loss\n",
    "        loss_id_A = criterion_identity(G_BA(real_A), real_A)\n",
    "        loss_id_B = criterion_identity(G_AB(real_B), real_B)\n",
    "\n",
    "        loss_identity = (loss_id_A + loss_id_B) / 2\n",
    "\n",
    "        # GAN loss\n",
    "        fake_B = G_AB(real_A)\n",
    "        loss_GAN_AB = criterion_GAN(D_B(fake_B), valid)\n",
    "        fake_A = G_BA(real_B)\n",
    "        loss_GAN_BA = criterion_GAN(D_A(fake_A), valid)\n",
    "\n",
    "        loss_GAN = (loss_GAN_AB + loss_GAN_BA) / 2\n",
    "\n",
    "        # Cycle loss\n",
    "        recov_A = G_BA(fake_B)\n",
    "        loss_cycle_A = criterion_cycle(recov_A, real_A)\n",
    "        recov_B = G_AB(fake_A)\n",
    "        loss_cycle_B = criterion_cycle(recov_B, real_B)\n",
    "\n",
    "        loss_cycle = (loss_cycle_A + loss_cycle_B) / 2\n",
    "\n",
    "        # Total loss\n",
    "        loss_G = loss_GAN + lambda_cyc * loss_cycle + lambda_id * loss_identity\n",
    "\n",
    "        loss_G.backward()\n",
    "        optimizer_G.step()\n",
    "\n",
    "        # Train Discriminator A\n",
    "        optimizer_D_A.zero_grad()\n",
    "\n",
    "        # Real loss\n",
    "        loss_real = criterion_GAN(D_A(real_A), valid)\n",
    "\n",
    "        # Fake loss (on batch of previously generated samples)\n",
    "        fake_A_ = fake_A_buffer.push_and_pop(fake_A)\n",
    "        loss_fake = criterion_GAN(D_A(fake_A_.detach()), fake)\n",
    "\n",
    "        # Total loss\n",
    "        loss_D_A = (loss_real + loss_fake) / 2\n",
    "\n",
    "        loss_D_A.backward()\n",
    "        optimizer_D_A.step()\n",
    "\n",
    "        # Train Discriminator B\n",
    "        optimizer_D_B.zero_grad()\n",
    "\n",
    "        # Real loss\n",
    "        loss_real = criterion_GAN(D_B(real_B), valid)\n",
    "\n",
    "        # Fake loss (on batch of previously generated samples)\n",
    "        fake_B_ = fake_B_buffer.push_and_pop(fake_B)\n",
    "        loss_fake = criterion_GAN(D_B(fake_B_.detach()), fake)\n",
    "        \n",
    "        # Total loss\n",
    "        loss_D_B = (loss_real + loss_fake) / 2\n",
    "\n",
    "        loss_D_B.backward()\n",
    "        optimizer_D_B.step()\n",
    "\n",
    "        loss_D = (loss_D_A + loss_D_B) / 2\n",
    "\n",
    "        # Log Progress\n",
    "        # Determine approximate time left\n",
    "        batches_done = epoch * len(train_loader) + i\n",
    "        batches_left = n_epochs * len(train_loader) - batches_done\n",
    "        time_left = datetime.timedelta(seconds=batches_left * (time.time() - prev_time))\n",
    "        prev_time = time.time()\n",
    "\n",
    "        # Print log\n",
    "        sys.stdout.write(\n",
    "            \"\\r[Epoch %d/%d] [Batch %d/%d] [D loss: %f] [G loss: %f, adv: %f, cycle: %f, identity: %f] ETA: %s\"\n",
    "            % (\n",
    "                epoch,\n",
    "                n_epochs,\n",
    "                i,\n",
    "                len(train_loader),\n",
    "                loss_D.item(),\n",
    "                loss_G.item(),\n",
    "                loss_GAN.item(),\n",
    "                loss_cycle.item(),\n",
    "                loss_identity.item(),\n",
    "                time_left,\n",
    "            )\n",
    "        )\n",
    "\n",
    "        # If at sample interval save image\n",
    "        if batches_done % sample_interval == 0:\n",
    "            sample_images(batches_done)\n",
    "\n",
    "    # Update learning rates\n",
    "    lr_scheduler_G.step()\n",
    "    lr_scheduler_D_A.step()\n",
    "    lr_scheduler_D_B.step()\n",
    "\n",
    "    if checkpoint_interval != -1 and epoch % checkpoint_interval == 0:\n",
    "        # Save model checkpoints\n",
    "        torch.save(G_AB.state_dict(), os.getcwd()+\"/saved_models/G_AB_%d.pth\" % epoch)\n",
    "        torch.save(G_BA.state_dict(), os.getcwd()+\"/saved_models/G_BA_%d.pth\" % epoch)\n",
    "        torch.save(D_A.state_dict(), os.getcwd()+\"/saved_models/D_A_%d.pth\" % epoch)\n",
    "        torch.save(D_B.state_dict(), os.getcwd()+\"/saved_models/D_B_%d.pth\" % epoch)"
   ],
   "execution_count": null,
   "outputs": [
    {
     "output_type": "stream",
     "text": [
      "[Epoch 62/1000] [Batch 495/729] [D loss: 0.136693] [G loss: 0.925371, adv: 0.363620, cycle: 0.042087, identity: 0.028177] ETA: 11 days, 19:22:39.451414"
     ],
     "name": "stdout"
    }
   ]
  },
  {
   "cell_type": "code",
   "metadata": {
    "id": "VI92jUpTsTJJ"
   },
   "source": [
    "while True:pass"
   ],
   "execution_count": null,
   "outputs": []
  }
 ]
}